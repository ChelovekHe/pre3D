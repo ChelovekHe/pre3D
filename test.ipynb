{
 "cells": [
  {
   "cell_type": "code",
   "execution_count": 14,
   "metadata": {
    "collapsed": true
   },
   "outputs": [],
   "source": [
    "import argparse\n",
    "import logging\n",
    "import os\n",
    "import pprint\n",
    "import mxnet as mx\n",
    "import numpy as np\n",
    "\n",
    "from rcnn.dataset import *\n",
    "from rcnn.core import callback, metric\n",
    "from rcnn.core.loader import AnchorLoader\n",
    "from rcnn.core.module import MutableModule\n",
    "from rcnn.utils.load_model import load_param\n",
    "from rcnn.symbol.symbol_vgg import *\n",
    "from rcnn.config import config"
   ]
  },
  {
   "cell_type": "code",
   "execution_count": 15,
   "metadata": {
    "collapsed": true
   },
   "outputs": [
    {
     "name": "stdout",
     "output_type": "stream",
     "text": [
      "set config\n",
      "load symbol\n",
      "{'ANCHOR_RATIOS': [0.5, 1, 2],\n",
      " 'ANCHOR_SCALES': [8, 16, 32, 48],\n",
      " 'EPS': 1e-14,\n",
      " 'FIXED_PARAMS': ['conv1', 'conv2', 'gamma', 'beta'],\n",
      " 'FIXED_PARAMS_FINETUNE': ['conv1', 'conv2', 'gamma', 'beta'],\n",
      " 'IMAGE_STRIDE': 0,\n",
      " 'INVALID_ORI': -10000,\n",
      " 'NUM_ANCHORS': 12,\n",
      " 'NUM_CLASSES': 4,\n",
      " 'PI': 3.141592653,\n",
      " 'PIXEL_MEANS': array([[[ 123.68 ,  116.779,  103.939]]]),\n",
      " 'RCNN_FEAT_SRTIDE': 16,\n",
      " 'RPN_FEAT_STRIDE': 16,\n",
      " 'RY_CLASSES': 72,\n",
      " 'SCALES': [(752, 2500)],\n",
      " 'TEST': {'BATCH_IMAGES': 1,\n",
      "          'CXX_PROPOSAL': False,\n",
      "          'HAS_RPN': False,\n",
      "          'NMS': 0.3,\n",
      "          'RPN_MIN_SIZE': 16,\n",
      "          'RPN_NMS_THRESH': 0.7,\n",
      "          'RPN_POST_NMS_TOP_N': 300,\n",
      "          'RPN_PRE_NMS_TOP_N': 6000},\n",
      " 'TRAIN': {'BATCH_IMAGES': 1,\n",
      "           'BATCH_ROIS': 128,\n",
      "           'BATCH_SIZE': 1,\n",
      "           'BBOX_3D': True,\n",
      "           'BBOX_INSIDE_WEIGHTS': array([ 1.,  1.,  1.,  1.]),\n",
      "           'BBOX_MEANS': [0.0, 0.0, 0.0, 0.0],\n",
      "           'BBOX_NORMALIZATION_PRECOMPUTED': True,\n",
      "           'BBOX_REGRESSION_THRESH': 0.5,\n",
      "           'BBOX_STDS': [0.1, 0.1, 0.2, 0.2],\n",
      "           'BBOX_WEIGHTS': array([ 1.,  1.,  1.,  1.]),\n",
      "           'BG_THRESH_HI': 0.5,\n",
      "           'BG_THRESH_LO': 0.0,\n",
      "           'CXX_PROPOSAL': False,\n",
      "           'END2END': True,\n",
      "           'FG_FRACTION': 0.25,\n",
      "           'FG_THRESH': 0.5,\n",
      "           'HAS_RPN': False,\n",
      "           'ORIENTATION': True,\n",
      "           'ORIENTATION_INSIDE_WEIGHTS': 4,\n",
      "           'ORIENTATION_WEIGHTS': 4,\n",
      "           'RPN_BATCH_SIZE': 256,\n",
      "           'RPN_BBOX_INSIDE_WEIGHTS': [1.0, 1.0, 1.0, 1.0],\n",
      "           'RPN_BBOX_WEIGHTS': [1.0, 1.0, 1.0, 1.0],\n",
      "           'RPN_CLOBBER_POSITIVES': False,\n",
      "           'RPN_FG_FRACTION': 0.5,\n",
      "           'RPN_MIN_SIZE': 16,\n",
      "           'RPN_NEGATIVE_OVERLAP': 0.3,\n",
      "           'RPN_NMS_THRESH': 0.7,\n",
      "           'RPN_POSITIVE_OVERLAP': 0.7,\n",
      "           'RPN_POSITIVE_WEIGHT': -1.0,\n",
      "           'RPN_POST_NMS_TOP_N': 2000,\n",
      "           'RPN_PRE_NMS_TOP_N': 12000}}\n",
      "num_images 3424\n",
      "kitti_train_ry_alpha_car_only gt roidb loaded from data/cache/kitti_train_ry_alpha_car_only_gt_roidb.pkl\n"
     ]
    }
   ],
   "source": [
    "# set up logger\n",
    "logging.basicConfig()\n",
    "logger = logging.getLogger()\n",
    "logger.setLevel(logging.INFO)\n",
    "\n",
    "print 'set config'\n",
    "# setup config\n",
    "config.TRAIN.BATCH_IMAGES = 1\n",
    "config.TRAIN.BATCH_ROIS = 128\n",
    "config.TRAIN.END2END = True\n",
    "config.TRAIN.BBOX_3D = True\n",
    "config.TRAIN.BBOX_NORMALIZATION_PRECOMPUTED = True\n",
    "config.TRAIN.BG_THRESH_LO = 0.0\n",
    "\n",
    "print 'load symbol'\n",
    "# load symbol\n",
    "sym = eval('get_vgg_train')()\n",
    "feat_sym = sym.get_internals()['rpn_cls_score_output']\n",
    "\n",
    "ctx=[mx.gpu(4)]\n",
    "batch_size = len(ctx)\n",
    "input_batch_size = config.TRAIN.BATCH_IMAGES * batch_size\n",
    "pprint.pprint(config)\n",
    "imdb = eval('Kitti')('train_ry_alpha_car_only', 'data', 'data/kitti')\n",
    "roidb=imdb.gt_roidb()"
   ]
  },
  {
   "cell_type": "code",
   "execution_count": 16,
   "metadata": {
    "collapsed": true
   },
   "outputs": [
    {
     "name": "stdout",
     "output_type": "stream",
     "text": [
      "752\n"
     ]
    },
    {
     "ename": "KeyError",
     "evalue": "'gt_dims'",
     "output_type": "error",
     "traceback": [
      "\u001b[1;31m---------------------------------------------------------------------------\u001b[0m",
      "\u001b[1;31mKeyError\u001b[0m                                  Traceback (most recent call last)",
      "\u001b[1;32m<ipython-input-16-23a61e46d0ab>\u001b[0m in \u001b[0;36m<module>\u001b[1;34m()\u001b[0m\n\u001b[0;32m      1\u001b[0m train_data = AnchorLoader(feat_sym, roidb, batch_size=input_batch_size, shuffle=True,\n\u001b[1;32m----> 2\u001b[1;33m                               ctx=ctx, work_load_list=None)\n\u001b[0m",
      "\u001b[1;32m/home/hustxly/Car/Car_Orientation/pre3D/rcnn/core/loader.pyc\u001b[0m in \u001b[0;36m__init__\u001b[1;34m(self, feat_sym, roidb, batch_size, shuffle, ctx, work_load_list, feat_stride, anchor_scales, anchor_ratios, allowed_border)\u001b[0m\n\u001b[0;32m    251\u001b[0m         \u001b[1;31m# get first batch to fill in provide_data and provide_label\u001b[0m\u001b[1;33m\u001b[0m\u001b[1;33m\u001b[0m\u001b[0m\n\u001b[0;32m    252\u001b[0m         \u001b[0mself\u001b[0m\u001b[1;33m.\u001b[0m\u001b[0mreset\u001b[0m\u001b[1;33m(\u001b[0m\u001b[1;33m)\u001b[0m\u001b[1;33m\u001b[0m\u001b[0m\n\u001b[1;32m--> 253\u001b[1;33m         \u001b[0mself\u001b[0m\u001b[1;33m.\u001b[0m\u001b[0mget_batch\u001b[0m\u001b[1;33m(\u001b[0m\u001b[1;33m)\u001b[0m\u001b[1;33m\u001b[0m\u001b[0m\n\u001b[0m\u001b[0;32m    254\u001b[0m \u001b[1;33m\u001b[0m\u001b[0m\n\u001b[0;32m    255\u001b[0m     \u001b[1;33m@\u001b[0m\u001b[0mproperty\u001b[0m\u001b[1;33m\u001b[0m\u001b[0m\n",
      "\u001b[1;32m/home/hustxly/Car/Car_Orientation/pre3D/rcnn/core/loader.pyc\u001b[0m in \u001b[0;36mget_batch\u001b[1;34m(self)\u001b[0m\n\u001b[0;32m    324\u001b[0m         \u001b[1;32mfor\u001b[0m \u001b[0mislice\u001b[0m \u001b[1;32min\u001b[0m \u001b[0mslices\u001b[0m\u001b[1;33m:\u001b[0m\u001b[1;33m\u001b[0m\u001b[0m\n\u001b[0;32m    325\u001b[0m             \u001b[0miroidb\u001b[0m \u001b[1;33m=\u001b[0m \u001b[1;33m[\u001b[0m\u001b[0mroidb\u001b[0m\u001b[1;33m[\u001b[0m\u001b[0mi\u001b[0m\u001b[1;33m]\u001b[0m \u001b[1;32mfor\u001b[0m \u001b[0mi\u001b[0m \u001b[1;32min\u001b[0m \u001b[0mrange\u001b[0m\u001b[1;33m(\u001b[0m\u001b[0mislice\u001b[0m\u001b[1;33m.\u001b[0m\u001b[0mstart\u001b[0m\u001b[1;33m,\u001b[0m \u001b[0mislice\u001b[0m\u001b[1;33m.\u001b[0m\u001b[0mstop\u001b[0m\u001b[1;33m)\u001b[0m\u001b[1;33m]\u001b[0m\u001b[1;33m\u001b[0m\u001b[0m\n\u001b[1;32m--> 326\u001b[1;33m             \u001b[0mdata\u001b[0m\u001b[1;33m,\u001b[0m \u001b[0mlabel\u001b[0m \u001b[1;33m=\u001b[0m \u001b[0mminibatch\u001b[0m\u001b[1;33m.\u001b[0m\u001b[0mget_rpn_batch\u001b[0m\u001b[1;33m(\u001b[0m\u001b[0miroidb\u001b[0m\u001b[1;33m)\u001b[0m\u001b[1;33m\u001b[0m\u001b[0m\n\u001b[0m\u001b[0;32m    327\u001b[0m             \u001b[0mdata_list\u001b[0m\u001b[1;33m.\u001b[0m\u001b[0mappend\u001b[0m\u001b[1;33m(\u001b[0m\u001b[0mdata\u001b[0m\u001b[1;33m)\u001b[0m\u001b[1;33m\u001b[0m\u001b[0m\n\u001b[0;32m    328\u001b[0m             \u001b[0mlabel_list\u001b[0m\u001b[1;33m.\u001b[0m\u001b[0mappend\u001b[0m\u001b[1;33m(\u001b[0m\u001b[0mlabel\u001b[0m\u001b[1;33m)\u001b[0m\u001b[1;33m\u001b[0m\u001b[0m\n",
      "\u001b[1;32m/home/hustxly/Car/Car_Orientation/pre3D/rcnn/core/minibatch.pyc\u001b[0m in \u001b[0;36mget_rpn_batch\u001b[1;34m(roidb)\u001b[0m\n\u001b[0;32m    126\u001b[0m     \"\"\"\n\u001b[0;32m    127\u001b[0m     \u001b[1;32massert\u001b[0m \u001b[0mlen\u001b[0m\u001b[1;33m(\u001b[0m\u001b[0mroidb\u001b[0m\u001b[1;33m)\u001b[0m \u001b[1;33m==\u001b[0m \u001b[1;36m1\u001b[0m\u001b[1;33m,\u001b[0m \u001b[1;34m'Single batch only'\u001b[0m\u001b[1;33m\u001b[0m\u001b[0m\n\u001b[1;32m--> 128\u001b[1;33m     \u001b[0mimgs\u001b[0m\u001b[1;33m,\u001b[0m \u001b[0mroidb\u001b[0m \u001b[1;33m=\u001b[0m \u001b[0mget_image\u001b[0m\u001b[1;33m(\u001b[0m\u001b[0mroidb\u001b[0m\u001b[1;33m)\u001b[0m\u001b[1;33m\u001b[0m\u001b[0m\n\u001b[0m\u001b[0;32m    129\u001b[0m     \u001b[0mim_array\u001b[0m \u001b[1;33m=\u001b[0m \u001b[0mimgs\u001b[0m\u001b[1;33m[\u001b[0m\u001b[1;36m0\u001b[0m\u001b[1;33m]\u001b[0m\u001b[1;33m\u001b[0m\u001b[0m\n\u001b[0;32m    130\u001b[0m     \u001b[0mim_info\u001b[0m \u001b[1;33m=\u001b[0m \u001b[0mnp\u001b[0m\u001b[1;33m.\u001b[0m\u001b[0marray\u001b[0m\u001b[1;33m(\u001b[0m\u001b[1;33m[\u001b[0m\u001b[0mroidb\u001b[0m\u001b[1;33m[\u001b[0m\u001b[1;36m0\u001b[0m\u001b[1;33m]\u001b[0m\u001b[1;33m[\u001b[0m\u001b[1;34m'im_info'\u001b[0m\u001b[1;33m]\u001b[0m\u001b[1;33m]\u001b[0m\u001b[1;33m,\u001b[0m \u001b[0mdtype\u001b[0m\u001b[1;33m=\u001b[0m\u001b[0mnp\u001b[0m\u001b[1;33m.\u001b[0m\u001b[0mfloat32\u001b[0m\u001b[1;33m)\u001b[0m\u001b[1;33m\u001b[0m\u001b[0m\n",
      "\u001b[1;32m/home/hustxly/Car/Car_Orientation/pre3D/rcnn/core/minibatch.pyc\u001b[0m in \u001b[0;36mget_image\u001b[1;34m(roidb)\u001b[0m\n\u001b[0;32m     70\u001b[0m         \u001b[0mnew_rec\u001b[0m\u001b[1;33m[\u001b[0m\u001b[1;34m'im_info'\u001b[0m\u001b[1;33m]\u001b[0m \u001b[1;33m=\u001b[0m \u001b[0mim_info\u001b[0m\u001b[1;33m\u001b[0m\u001b[0m\n\u001b[0;32m     71\u001b[0m         \u001b[1;32mif\u001b[0m \u001b[0mconfig\u001b[0m\u001b[1;33m.\u001b[0m\u001b[0mTRAIN\u001b[0m\u001b[1;33m.\u001b[0m\u001b[0mBBOX_3D\u001b[0m\u001b[1;33m:\u001b[0m\u001b[1;33m\u001b[0m\u001b[0m\n\u001b[1;32m---> 72\u001b[1;33m             \u001b[0mnew_rec\u001b[0m\u001b[1;33m[\u001b[0m\u001b[1;34m'gt_dims'\u001b[0m\u001b[1;33m]\u001b[0m   \u001b[1;33m=\u001b[0m \u001b[0mroi_rec\u001b[0m\u001b[1;33m[\u001b[0m\u001b[1;34m'gt_dims'\u001b[0m\u001b[1;33m]\u001b[0m\u001b[1;33m\u001b[0m\u001b[0m\n\u001b[0m\u001b[0;32m     73\u001b[0m             \u001b[0mnew_rec\u001b[0m\u001b[1;33m[\u001b[0m\u001b[1;34m'gt_angles'\u001b[0m\u001b[1;33m]\u001b[0m \u001b[1;33m=\u001b[0m \u001b[0mroi_rec\u001b[0m\u001b[1;33m[\u001b[0m\u001b[1;34m'gt_angles'\u001b[0m\u001b[1;33m]\u001b[0m\u001b[1;33m\u001b[0m\u001b[0m\n\u001b[0;32m     74\u001b[0m             \u001b[0mnew_rec\u001b[0m\u001b[1;33m[\u001b[0m\u001b[1;34m'gt_confs'\u001b[0m\u001b[1;33m]\u001b[0m  \u001b[1;33m=\u001b[0m \u001b[0mroi_rec\u001b[0m\u001b[1;33m[\u001b[0m\u001b[1;34m'gt_confs'\u001b[0m\u001b[1;33m]\u001b[0m\u001b[1;33m\u001b[0m\u001b[0m\n",
      "\u001b[1;31mKeyError\u001b[0m: 'gt_dims'"
     ]
    }
   ],
   "source": [
    "train_data = AnchorLoader(feat_sym, roidb, batch_size=input_batch_size, shuffle=True,\n",
    "                              ctx=ctx, work_load_list=None)"
   ]
  },
  {
   "cell_type": "code",
   "execution_count": 34,
   "metadata": {
    "collapsed": false
   },
   "outputs": [],
   "source": [
    "a = roidb[10]['boxes']"
   ]
  },
  {
   "cell_type": "code",
   "execution_count": 33,
   "metadata": {
    "collapsed": false
   },
   "outputs": [
    {
     "data": {
      "text/plain": [
       "array([1, 1, 1], dtype=int32)"
      ]
     },
     "execution_count": 33,
     "metadata": {},
     "output_type": "execute_result"
    }
   ],
   "source": [
    "roidb[10]['gt_classes']"
   ]
  },
  {
   "cell_type": "code",
   "execution_count": 39,
   "metadata": {
    "collapsed": false
   },
   "outputs": [
    {
     "data": {
      "text/plain": [
       "{'boxes': array([[ 387.63000488,  181.53999329,  423.80999756,  203.11999512]], dtype=float32),\n",
       " 'flipped': False,\n",
       " 'gt_classes': array([1], dtype=int32),\n",
       " 'gt_overlaps': array([[ 0.,  1.,  0.,  0.]], dtype=float32),\n",
       " 'height': 375,\n",
       " 'image': 'data/kitti/images/000001.png',\n",
       " 'max_classes': array([1]),\n",
       " 'max_overlaps': array([ 1.], dtype=float32),\n",
       " 'orientation_alpha': array([ 1.85000002], dtype=float32),\n",
       " 'orientation_ry': array([ 1.57000005], dtype=float32),\n",
       " 'width': 1242}"
      ]
     },
     "execution_count": 39,
     "metadata": {},
     "output_type": "execute_result"
    }
   ],
   "source": [
    "roidb[0]"
   ]
  },
  {
   "cell_type": "code",
   "execution_count": null,
   "metadata": {
    "collapsed": true
   },
   "outputs": [],
   "source": []
  }
 ],
 "metadata": {
  "kernelspec": {
   "display_name": "Python 2",
   "language": "python",
   "name": "python2"
  },
  "language_info": {
   "codemirror_mode": {
    "name": "ipython",
    "version": 2
   },
   "file_extension": ".py",
   "mimetype": "text/x-python",
   "name": "python",
   "nbconvert_exporter": "python",
   "pygments_lexer": "ipython2",
   "version": "2.7.6"
  }
 },
 "nbformat": 4,
 "nbformat_minor": 0
}
