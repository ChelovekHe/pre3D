{
 "cells": [
  {
   "cell_type": "markdown",
   "metadata": {},
   "source": [
    "python example/env/test.py --prefix model/3dbox/3dbox --epoch 20 --image data/test_data/GTA_00001.jpg --gpu 6"
   ]
  },
  {
   "cell_type": "code",
   "execution_count": 1,
   "metadata": {
    "collapsed": false
   },
   "outputs": [],
   "source": [
    "import argparse\n",
    "import os\n",
    "import cv2\n",
    "import mxnet as mx\n",
    "import numpy as np\n",
    "import matplotlib.pyplot as plt\n",
    "%matplotlib inline\n",
    "\n",
    "from rcnn.config import config\n",
    "from rcnn.core.detector import Detector\n",
    "from rcnn.symbol import get_vgg_test\n",
    "from rcnn.processing.image_processing import resize, transform\n",
    "from rcnn.processing.nms import nms\n",
    "from rcnn.core.tester import vis_all_detection\n",
    "from rcnn.utils.load_model import load_param\n",
    "\n",
    "from rcnn.processing.bbox_transform import bbox_pred, clip_boxes\n",
    "\n",
    "CLASSES = ('__background__',\n",
    "           'aeroplane', 'bicycle', 'bird', 'boat',\n",
    "           'bottle', 'bus', 'car', 'cat', 'chair',\n",
    "           'cow', 'diningtable', 'dog', 'horse',\n",
    "           'motorbike', 'person', 'pottedplant',\n",
    "           'sheep', 'sofa', 'train', 'tvmonitor')\n",
    "\n",
    "def get_net(prefix, epoch, ctx):\n",
    "    args, auxs = load_param(prefix, epoch, convert=True, ctx=ctx)\n",
    "    #sym = get_vgg_test(num_classes=4, num_anchors=12)\n",
    "    sym = get_vgg_test()\n",
    "\n",
    "    #a = mx.viz.plot_network(sym, shape={\"data\":(1, 1, 600, 1000),  \"im_info\":(3), \n",
    "    #                                    \"gt_boxes\":(1,1,5), \"gt_dims\":(1,1,3), \"gt_angles\":(1,1,1), \"gt_confs\":(1,1,1)}, \n",
    "    #                        node_attrs={\"shape\":'rect',\"fixedsize\":'false'})\n",
    "    #a.view()\n",
    "\n",
    "    detector = Detector(sym, ctx, args, auxs)\n",
    "    return detector\n",
    "\n",
    "prefix='model/3dbox/3dbox'\n",
    "epoch=20\n",
    "ctx=mx.gpu(6)\n",
    "config.TEST.HAS_RPN = True\n",
    "\n",
    "detector = get_net(prefix, epoch, ctx)\n",
    "\n",
    "image_name='data/test_data/GTA_00001.jpg'\n",
    "assert os.path.exists(image_name), image_name + ' not found'\n",
    "im = cv2.imread(image_name)\n",
    "im_array, im_scale = resize(im, 360, 124200) \n",
    "im_array = transform(im_array, config.PIXEL_MEANS)\n",
    "im_info = np.array([[im_array.shape[2], im_array.shape[3], im_scale]], dtype=np.float32)"
   ]
  },
  {
   "cell_type": "code",
   "execution_count": 2,
   "metadata": {
    "collapsed": false
   },
   "outputs": [
    {
     "name": "stdout",
     "output_type": "stream",
     "text": [
      "to executor\n",
      "forward done\n",
      "save output done\n"
     ]
    }
   ],
   "source": [
    "scores, boxes = detector.im_detect(im_array, im_info)"
   ]
  },
  {
   "cell_type": "code",
   "execution_count": 22,
   "metadata": {
    "collapsed": false
   },
   "outputs": [
    {
     "name": "stdout",
     "output_type": "stream",
     "text": [
      "forward done\n"
     ]
    }
   ],
   "source": []
  },
  {
   "cell_type": "code",
   "execution_count": 23,
   "metadata": {
    "collapsed": false
   },
   "outputs": [],
   "source": []
  },
  {
   "cell_type": "code",
   "execution_count": 26,
   "metadata": {
    "collapsed": false
   },
   "outputs": [
    {
     "data": {
      "text/plain": [
       "[('bbox_pred_reshape_output', <NDArray 1x300x84 @gpu(6)>),\n",
       " ('cls_prob_reshape_output', <NDArray 1x300x21 @gpu(6)>),\n",
       " ('dim_pred_reshape_output', <NDArray 1x300x3 @gpu(6)>),\n",
       " ('angle_pred_reshape_output', <NDArray 1x300x16 @gpu(6)>),\n",
       " ('rois_output', <NDArray 300x5 @gpu(6)>),\n",
       " ('conf_pred_reshape_output', <NDArray 1x300x1 @gpu(6)>)]"
      ]
     },
     "execution_count": 26,
     "metadata": {},
     "output_type": "execute_result"
    }
   ],
   "source": [
    "output_dict.items()"
   ]
  },
  {
   "cell_type": "code",
   "execution_count": null,
   "metadata": {
    "collapsed": true
   },
   "outputs": [],
   "source": []
  }
 ],
 "metadata": {
  "kernelspec": {
   "display_name": "Python 2",
   "language": "python",
   "name": "python2"
  },
  "language_info": {
   "codemirror_mode": {
    "name": "ipython",
    "version": 2
   },
   "file_extension": ".py",
   "mimetype": "text/x-python",
   "name": "python",
   "nbconvert_exporter": "python",
   "pygments_lexer": "ipython2",
   "version": "2.7.6"
  }
 },
 "nbformat": 4,
 "nbformat_minor": 0
}
