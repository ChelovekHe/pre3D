{
 "cells": [
  {
   "cell_type": "code",
   "execution_count": 5,
   "metadata": {
    "collapsed": false
   },
   "outputs": [
    {
     "name": "stdout",
     "output_type": "stream",
     "text": [
      "set config\n",
      "load symbol\n",
      "{'ANCHOR_RATIOS': [0.5, 1, 2],\n",
      " 'ANCHOR_SCALES': [8, 16, 32, 48],\n",
      " 'EPS': 1e-14,\n",
      " 'FIXED_PARAMS': ['conv1', 'conv2', 'gamma', 'beta'],\n",
      " 'FIXED_PARAMS_FINETUNE': ['conv1', 'conv2', 'gamma', 'beta'],\n",
      " 'IMAGE_STRIDE': 0,\n",
      " 'INVALID_ORI': -10000,\n",
      " 'NUM_ANCHORS': 12,\n",
      " 'NUM_CLASSES': 4,\n",
      " 'PI': 3.141592653,\n",
      " 'PIXEL_MEANS': array([[[ 123.68 ,  116.779,  103.939]]]),\n",
      " 'RCNN_FEAT_SRTIDE': 16,\n",
      " 'RPN_FEAT_STRIDE': 16,\n",
      " 'RY_CLASSES': 72,\n",
      " 'SCALES': [(752, 2500)],\n",
      " 'TEST': {'BATCH_IMAGES': 1,\n",
      "          'CXX_PROPOSAL': False,\n",
      "          'HAS_RPN': False,\n",
      "          'NMS': 0.3,\n",
      "          'RPN_MIN_SIZE': 16,\n",
      "          'RPN_NMS_THRESH': 0.7,\n",
      "          'RPN_POST_NMS_TOP_N': 300,\n",
      "          'RPN_PRE_NMS_TOP_N': 6000},\n",
      " 'TRAIN': {'BATCH_IMAGES': 1,\n",
      "           'BATCH_ROIS': 128,\n",
      "           'BATCH_SIZE': 1,\n",
      "           'BBOX_3D': True,\n",
      "           'BBOX_INSIDE_WEIGHTS': array([ 1.,  1.,  1.,  1.]),\n",
      "           'BBOX_MEANS': [0.0, 0.0, 0.0, 0.0],\n",
      "           'BBOX_NORMALIZATION_PRECOMPUTED': True,\n",
      "           'BBOX_REGRESSION_THRESH': 0.5,\n",
      "           'BBOX_STDS': [0.1, 0.1, 0.2, 0.2],\n",
      "           'BBOX_WEIGHTS': array([ 1.,  1.,  1.,  1.]),\n",
      "           'BG_THRESH_HI': 0.5,\n",
      "           'BG_THRESH_LO': 0.0,\n",
      "           'CXX_PROPOSAL': False,\n",
      "           'END2END': True,\n",
      "           'FG_FRACTION': 0.25,\n",
      "           'FG_THRESH': 0.5,\n",
      "           'HAS_RPN': False,\n",
      "           'ORIENTATION': True,\n",
      "           'ORIENTATION_INSIDE_WEIGHTS': 4,\n",
      "           'ORIENTATION_WEIGHTS': 4,\n",
      "           'RPN_BATCH_SIZE': 256,\n",
      "           'RPN_BBOX_INSIDE_WEIGHTS': [1.0, 1.0, 1.0, 1.0],\n",
      "           'RPN_BBOX_WEIGHTS': [1.0, 1.0, 1.0, 1.0],\n",
      "           'RPN_CLOBBER_POSITIVES': False,\n",
      "           'RPN_FG_FRACTION': 0.5,\n",
      "           'RPN_MIN_SIZE': 16,\n",
      "           'RPN_NEGATIVE_OVERLAP': 0.3,\n",
      "           'RPN_NMS_THRESH': 0.7,\n",
      "           'RPN_POSITIVE_OVERLAP': 0.7,\n",
      "           'RPN_POSITIVE_WEIGHT': -1.0,\n",
      "           'RPN_POST_NMS_TOP_N': 2000,\n",
      "           'RPN_PRE_NMS_TOP_N': 12000}}\n",
      "num_images 3424\n",
      "kitti_val gt roidb loaded from data/cache/kitti_val_gt_roidb.pkl\n",
      "752\n",
      "providing maximum shape [('data', (1, 3, 1000, 1000)), ('gt_boxes', (1, 100, 5))] [('label', (1, 34596)), ('bbox_target', (1, 36, 62, 62)), ('bbox_weight', (1, 36, 62, 62))]\n"
     ]
    }
   ],
   "source": [
    "import argparse\n",
    "import logging\n",
    "import os\n",
    "import pprint\n",
    "import mxnet as mx\n",
    "import numpy as np\n",
    "\n",
    "from rcnn.dataset import *\n",
    "from rcnn.core import callback, metric\n",
    "from rcnn.core.loader import AnchorLoader\n",
    "from rcnn.core.module import MutableModule\n",
    "from rcnn.utils.load_model import load_param\n",
    "from rcnn.symbol.symbol_vgg import *\n",
    "from rcnn.config import config\n",
    "# set up logger\n",
    "logging.basicConfig()\n",
    "logger = logging.getLogger()\n",
    "logger.setLevel(logging.INFO)\n",
    "\n",
    "print 'set config'\n",
    "# setup config\n",
    "config.TRAIN.BATCH_IMAGES = 1\n",
    "config.TRAIN.BATCH_ROIS = 128\n",
    "config.TRAIN.END2END = True\n",
    "config.TRAIN.BBOX_3D = True\n",
    "config.TRAIN.BBOX_NORMALIZATION_PRECOMPUTED = True\n",
    "config.TRAIN.BG_THRESH_LO = 0.0\n",
    "\n",
    "print 'load symbol'\n",
    "# load symbol\n",
    "sym = eval('get_vgg_train')()\n",
    "feat_sym = sym.get_internals()['rpn_cls_score_output']\n",
    "\n",
    "ctx=[mx.gpu(4)]\n",
    "batch_size = len(ctx)\n",
    "input_batch_size = config.TRAIN.BATCH_IMAGES * batch_size\n",
    "pprint.pprint(config)\n",
    "imdb = eval('Kitti')('val', 'data', 'data/kitti')\n",
    "roidb=imdb.gt_roidb()\n",
    "\n",
    "train_data = AnchorLoader(feat_sym, roidb, batch_size=input_batch_size, shuffle=True,\n",
    "                              ctx=ctx, work_load_list=None)\n",
    " # infer max shape\n",
    "max_data_shape = [('data', (input_batch_size, 3, 1000, 1000))]\n",
    "max_data_shape, max_label_shape = train_data.infer_shape(max_data_shape)\n",
    "max_data_shape.append(('gt_boxes', (input_batch_size, 100, 5)))\n",
    "print 'providing maximum shape', max_data_shape, max_label_shape\n",
    "arg_params, aux_params = load_param('/data01/hustxly/model/faster_rcnn/kitti_ry_cls_input_up_2/ry_alpha_car_only_reg', 20, convert=True)"
   ]
  },
  {
   "cell_type": "code",
   "execution_count": 4,
   "metadata": {
    "collapsed": false
   },
   "outputs": [
    {
     "data": {
      "text/plain": [
       "{'boxes': array([[ 387.63000488,  181.53999329,  423.80999756,  203.11999512]], dtype=float32),\n",
       " 'flipped': False,\n",
       " 'gt_angles': array([ 1.57000005], dtype=float32),\n",
       " 'gt_classes': array([1], dtype=int32),\n",
       " 'gt_confs': array([[1]], dtype=int32),\n",
       " 'gt_dims': array([[ 1.66999996,  1.87      ,  3.69000006]], dtype=float32),\n",
       " 'gt_overlaps': array([[ 0.,  1.,  0.,  0.]], dtype=float32),\n",
       " 'gt_position': array([[-16.53000069,   2.3900001 ,  58.49000168]], dtype=float32),\n",
       " 'height': 375,\n",
       " 'image': 'data/kitti/images/000001.png',\n",
       " 'max_classes': array([1]),\n",
       " 'max_overlaps': array([ 1.], dtype=float32),\n",
       " 'orientation_alpha': array([ 1.85000002], dtype=float32),\n",
       " 'orientation_ry': array([ 1.57000005], dtype=float32),\n",
       " 'width': 1242}"
      ]
     },
     "execution_count": 4,
     "metadata": {},
     "output_type": "execute_result"
    }
   ],
   "source": [
    "roidb[0]"
   ]
  },
  {
   "cell_type": "code",
   "execution_count": 6,
   "metadata": {
    "collapsed": false
   },
   "outputs": [
    {
     "name": "stdout",
     "output_type": "stream",
     "text": [
      "infer_shape error. Arguments:\n",
      "  bbox_target: (1L, 36L, 47L, 155L)\n",
      "  im_info: (1L, 3L)\n",
      "  gt_dims: (1L, 9L, 3L)\n",
      "  label: (1L, 65565L)\n",
      "  gt_boxes: (1L, 9L, 5L)\n",
      "  bbox_weight: (1L, 36L, 47L, 155L)\n",
      "  gt_confs: (1L, 9L, 1L)\n",
      "  data: (1L, 3L, 752L, 2491L)\n",
      "  gt_angles: (1L, 9L)\n"
     ]
    },
    {
     "ename": "MXNetError",
     "evalue": "Error in operator angle: Shape inconsistent, Provided=(128,1), inferred shape=(128,)",
     "output_type": "error",
     "traceback": [
      "\u001b[1;31m---------------------------------------------------------------------------\u001b[0m",
      "\u001b[1;31mMXNetError\u001b[0m                                Traceback (most recent call last)",
      "\u001b[1;32m<ipython-input-6-3678559667ca>\u001b[0m in \u001b[0;36m<module>\u001b[1;34m()\u001b[0m\n\u001b[0;32m      1\u001b[0m \u001b[1;31m# infer shape\u001b[0m\u001b[1;33m\u001b[0m\u001b[1;33m\u001b[0m\u001b[0m\n\u001b[0;32m      2\u001b[0m \u001b[0mdata_shape_dict\u001b[0m \u001b[1;33m=\u001b[0m \u001b[0mdict\u001b[0m\u001b[1;33m(\u001b[0m\u001b[0mtrain_data\u001b[0m\u001b[1;33m.\u001b[0m\u001b[0mprovide_data\u001b[0m \u001b[1;33m+\u001b[0m \u001b[0mtrain_data\u001b[0m\u001b[1;33m.\u001b[0m\u001b[0mprovide_label\u001b[0m\u001b[1;33m)\u001b[0m\u001b[1;33m\u001b[0m\u001b[0m\n\u001b[1;32m----> 3\u001b[1;33m \u001b[0marg_shape\u001b[0m\u001b[1;33m,\u001b[0m \u001b[0mout_shape\u001b[0m\u001b[1;33m,\u001b[0m \u001b[0maux_shape\u001b[0m \u001b[1;33m=\u001b[0m \u001b[0msym\u001b[0m\u001b[1;33m.\u001b[0m\u001b[0minfer_shape\u001b[0m\u001b[1;33m(\u001b[0m\u001b[1;33m**\u001b[0m\u001b[0mdata_shape_dict\u001b[0m\u001b[1;33m)\u001b[0m\u001b[1;33m\u001b[0m\u001b[0m\n\u001b[0m\u001b[0;32m      4\u001b[0m \u001b[0marg_shape_dict\u001b[0m \u001b[1;33m=\u001b[0m \u001b[0mdict\u001b[0m\u001b[1;33m(\u001b[0m\u001b[0mzip\u001b[0m\u001b[1;33m(\u001b[0m\u001b[0msym\u001b[0m\u001b[1;33m.\u001b[0m\u001b[0mlist_arguments\u001b[0m\u001b[1;33m(\u001b[0m\u001b[1;33m)\u001b[0m\u001b[1;33m,\u001b[0m \u001b[0marg_shape\u001b[0m\u001b[1;33m)\u001b[0m\u001b[1;33m)\u001b[0m\u001b[1;33m\u001b[0m\u001b[0m\n\u001b[0;32m      5\u001b[0m \u001b[0mout_shape_dict\u001b[0m \u001b[1;33m=\u001b[0m \u001b[0mdict\u001b[0m\u001b[1;33m(\u001b[0m\u001b[0mzip\u001b[0m\u001b[1;33m(\u001b[0m\u001b[0msym\u001b[0m\u001b[1;33m.\u001b[0m\u001b[0mlist_outputs\u001b[0m\u001b[1;33m(\u001b[0m\u001b[1;33m)\u001b[0m\u001b[1;33m,\u001b[0m \u001b[0mout_shape\u001b[0m\u001b[1;33m)\u001b[0m\u001b[1;33m)\u001b[0m\u001b[1;33m\u001b[0m\u001b[0m\n",
      "\u001b[1;32m/home/hustxly/mxnet/python/mxnet/symbol.pyc\u001b[0m in \u001b[0;36minfer_shape\u001b[1;34m(self, *args, **kwargs)\u001b[0m\n\u001b[0;32m    533\u001b[0m         \"\"\"\n\u001b[0;32m    534\u001b[0m         \u001b[1;32mtry\u001b[0m\u001b[1;33m:\u001b[0m\u001b[1;33m\u001b[0m\u001b[0m\n\u001b[1;32m--> 535\u001b[1;33m             \u001b[1;32mreturn\u001b[0m \u001b[0mself\u001b[0m\u001b[1;33m.\u001b[0m\u001b[0m_infer_shape_impl\u001b[0m\u001b[1;33m(\u001b[0m\u001b[0mFalse\u001b[0m\u001b[1;33m,\u001b[0m \u001b[1;33m*\u001b[0m\u001b[0margs\u001b[0m\u001b[1;33m,\u001b[0m \u001b[1;33m**\u001b[0m\u001b[0mkwargs\u001b[0m\u001b[1;33m)\u001b[0m\u001b[1;33m\u001b[0m\u001b[0m\n\u001b[0m\u001b[0;32m    536\u001b[0m         \u001b[1;32mexcept\u001b[0m \u001b[0mMXNetError\u001b[0m\u001b[1;33m:\u001b[0m\u001b[1;33m\u001b[0m\u001b[0m\n\u001b[0;32m    537\u001b[0m             \u001b[1;32mprint\u001b[0m\u001b[1;33m(\u001b[0m\u001b[1;34m\"infer_shape error. Arguments:\"\u001b[0m\u001b[1;33m)\u001b[0m\u001b[1;33m\u001b[0m\u001b[0m\n",
      "\u001b[1;32m/home/hustxly/mxnet/python/mxnet/symbol.pyc\u001b[0m in \u001b[0;36m_infer_shape_impl\u001b[1;34m(self, partial, *args, **kwargs)\u001b[0m\n\u001b[0;32m    600\u001b[0m             \u001b[0mctypes\u001b[0m\u001b[1;33m.\u001b[0m\u001b[0mbyref\u001b[0m\u001b[1;33m(\u001b[0m\u001b[0maux_shape_ndim\u001b[0m\u001b[1;33m)\u001b[0m\u001b[1;33m,\u001b[0m\u001b[1;33m\u001b[0m\u001b[0m\n\u001b[0;32m    601\u001b[0m             \u001b[0mctypes\u001b[0m\u001b[1;33m.\u001b[0m\u001b[0mbyref\u001b[0m\u001b[1;33m(\u001b[0m\u001b[0maux_shape_data\u001b[0m\u001b[1;33m)\u001b[0m\u001b[1;33m,\u001b[0m\u001b[1;33m\u001b[0m\u001b[0m\n\u001b[1;32m--> 602\u001b[1;33m             ctypes.byref(complete)))\n\u001b[0m\u001b[0;32m    603\u001b[0m         \u001b[1;32mif\u001b[0m \u001b[0mcomplete\u001b[0m\u001b[1;33m.\u001b[0m\u001b[0mvalue\u001b[0m \u001b[1;33m!=\u001b[0m \u001b[1;36m0\u001b[0m\u001b[1;33m:\u001b[0m\u001b[1;33m\u001b[0m\u001b[0m\n\u001b[0;32m    604\u001b[0m             arg_shapes = [\n",
      "\u001b[1;32m/home/hustxly/mxnet/python/mxnet/base.pyc\u001b[0m in \u001b[0;36mcheck_call\u001b[1;34m(ret)\u001b[0m\n\u001b[0;32m     73\u001b[0m     \"\"\"\n\u001b[0;32m     74\u001b[0m     \u001b[1;32mif\u001b[0m \u001b[0mret\u001b[0m \u001b[1;33m!=\u001b[0m \u001b[1;36m0\u001b[0m\u001b[1;33m:\u001b[0m\u001b[1;33m\u001b[0m\u001b[0m\n\u001b[1;32m---> 75\u001b[1;33m         \u001b[1;32mraise\u001b[0m \u001b[0mMXNetError\u001b[0m\u001b[1;33m(\u001b[0m\u001b[0mpy_str\u001b[0m\u001b[1;33m(\u001b[0m\u001b[0m_LIB\u001b[0m\u001b[1;33m.\u001b[0m\u001b[0mMXGetLastError\u001b[0m\u001b[1;33m(\u001b[0m\u001b[1;33m)\u001b[0m\u001b[1;33m)\u001b[0m\u001b[1;33m)\u001b[0m\u001b[1;33m\u001b[0m\u001b[0m\n\u001b[0m\u001b[0;32m     76\u001b[0m \u001b[1;33m\u001b[0m\u001b[0m\n\u001b[0;32m     77\u001b[0m \u001b[1;32mif\u001b[0m \u001b[0msys\u001b[0m\u001b[1;33m.\u001b[0m\u001b[0mversion_info\u001b[0m\u001b[1;33m[\u001b[0m\u001b[1;36m0\u001b[0m\u001b[1;33m]\u001b[0m \u001b[1;33m<\u001b[0m \u001b[1;36m3\u001b[0m\u001b[1;33m:\u001b[0m\u001b[1;33m\u001b[0m\u001b[0m\n",
      "\u001b[1;31mMXNetError\u001b[0m: Error in operator angle: Shape inconsistent, Provided=(128,1), inferred shape=(128,)"
     ]
    }
   ],
   "source": [
    "# infer shape\n",
    "data_shape_dict = dict(train_data.provide_data + train_data.provide_label)\n"
   ]
  },
  {
   "cell_type": "code",
   "execution_count": 40,
   "metadata": {
    "collapsed": true
   },
   "outputs": [
    {
     "data": {
      "text/plain": [
       "{'boxes': array([[ 387.63000488,  181.53999329,  423.80999756,  203.11999512]], dtype=float32),\n",
       " 'flipped': False,\n",
       " 'gt_classes': array([1], dtype=int32),\n",
       " 'gt_overlaps': array([[ 0.,  1.,  0.,  0.]], dtype=float32),\n",
       " 'height': 375,\n",
       " 'image': 'data/kitti/images/000001.png',\n",
       " 'max_classes': array([1]),\n",
       " 'max_overlaps': array([ 1.], dtype=float32),\n",
       " 'orientation_alpha': array([ 1.85000002], dtype=float32),\n",
       " 'orientation_ry': array([ 1.57000005], dtype=float32),\n",
       " 'width': 1242}"
      ]
     },
     "execution_count": 40,
     "metadata": {},
     "output_type": "execute_result"
    }
   ],
   "source": [
    "arg_shape, out_shape, aux_shape = sym.infer_shape(**data_shape_dict)\n",
    "arg_shape_dict = dict(zip(sym.list_arguments(), arg_shape))\n",
    "out_shape_dict = dict(zip(sym.list_outputs(), out_shape))\n",
    "aux_shape_dict = dict(zip(sym.list_auxiliary_states(), aux_shape))\n",
    "print 'output shape'\n",
    "pprint.pprint(out_shape_dict)\n",
    "print 'arg shape'\n",
    "pprint.pprint(arg_shape_dict)\n",
    "print 'aux shape'\n",
    "pprint.pprint(aux_shape_dict)"
   ]
  },
  {
   "cell_type": "code",
   "execution_count": null,
   "metadata": {
    "collapsed": true
   },
   "outputs": [],
   "source": []
  }
 ],
 "metadata": {
  "kernelspec": {
   "display_name": "Python 2",
   "language": "python",
   "name": "python2"
  },
  "language_info": {
   "codemirror_mode": {
    "name": "ipython",
    "version": 2
   },
   "file_extension": ".py",
   "mimetype": "text/x-python",
   "name": "python",
   "nbconvert_exporter": "python",
   "pygments_lexer": "ipython2",
   "version": "2.7.6"
  }
 },
 "nbformat": 4,
 "nbformat_minor": 0
}
